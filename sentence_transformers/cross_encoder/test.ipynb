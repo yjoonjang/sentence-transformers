{
 "cells": [
  {
   "cell_type": "code",
   "execution_count": 1,
   "metadata": {},
   "outputs": [
    {
     "name": "stderr",
     "output_type": "stream",
     "text": [
      "/mnt/raid6/yjoonjang/miniconda3/envs/st/lib/python3.11/site-packages/tqdm/auto.py:21: TqdmWarning: IProgress not found. Please update jupyter and ipywidgets. See https://ipywidgets.readthedocs.io/en/stable/user_install.html\n",
      "  from .autonotebook import tqdm as notebook_tqdm\n"
     ]
    }
   ],
   "source": [
    "from CustomCrossEncoder import CustomCrossEncoder"
   ]
  },
  {
   "cell_type": "code",
   "execution_count": 2,
   "metadata": {},
   "outputs": [],
   "source": [
    "model = CustomCrossEncoder(\n",
    "    \"yjoonjang/custom-bge-reranker-v2-m3\", \n",
    "    num_labels=2,\n",
    "    max_length=512\n",
    ")\n",
    "\n",
    "# query = \"what is panda?\"\n",
    "# passage = \"The giant panda, sometimes called a panda bear or simply panda, is a bear species endemic to China.\"\n",
    "\n",
    "# score = model.predict((query, passage))\n",
    "# print(f\"Prediction score: {score}\")"
   ]
  },
  {
   "cell_type": "code",
   "execution_count": 3,
   "metadata": {},
   "outputs": [
    {
     "name": "stderr",
     "output_type": "stream",
     "text": [
      "Predicting:   0%|          | 0/1 [00:00<?, ?it/s]"
     ]
    },
    {
     "name": "stderr",
     "output_type": "stream",
     "text": [
      "Predicting: 100%|██████████| 1/1 [00:00<00:00,  1.55it/s]"
     ]
    },
    {
     "name": "stdout",
     "output_type": "stream",
     "text": [
      "[0.99997735] [1]\n"
     ]
    },
    {
     "name": "stderr",
     "output_type": "stream",
     "text": [
      "\n"
     ]
    }
   ],
   "source": [
    "query = \"what is panda?\"\n",
    "passage = \"The giant panda, sometimes called a panda bear or simply panda, is a bear species endemic to China.\"\n",
    "\n",
    "scores, class_ids = model.predict([(query, passage)], apply_softmax=True, normalize_scores=True, return_class_id=True)\n",
    "print(scores, class_ids)"
   ]
  },
  {
   "cell_type": "code",
   "execution_count": 4,
   "metadata": {},
   "outputs": [
    {
     "name": "stderr",
     "output_type": "stream",
     "text": [
      "Predicting: 100%|██████████| 1/1 [00:00<00:00, 55.04it/s]"
     ]
    },
    {
     "name": "stdout",
     "output_type": "stream",
     "text": [
      "details['prediction_class']=1\n",
      "details['confidence']=0.9999773502349854\n",
      "details['positive_class_prob']=0.9999773502349854\n"
     ]
    },
    {
     "name": "stderr",
     "output_type": "stream",
     "text": [
      "\n"
     ]
    }
   ],
   "source": [
    "details = model.predict_with_details((query, passage))\n",
    "print(f\"{details['prediction_class']=}\")\n",
    "print(f\"{details['confidence']=}\")\n",
    "print(f\"{details['positive_class_prob']=}\")"
   ]
  },
  {
   "cell_type": "code",
   "execution_count": 6,
   "metadata": {},
   "outputs": [
    {
     "name": "stderr",
     "output_type": "stream",
     "text": [
      "Predicting: 100%|██████████| 1/1 [00:00<00:00, 29.00it/s]"
     ]
    },
    {
     "name": "stdout",
     "output_type": "stream",
     "text": [
      "query='what is panda?'\n"
     ]
    },
    {
     "name": "stderr",
     "output_type": "stream",
     "text": [
      "\n"
     ]
    },
    {
     "data": {
      "text/plain": [
       "[{'corpus_id': 0,\n",
       "  'score': 0.9999773502349854,\n",
       "  'text': 'The giant panda, sometimes called a panda bear or simply panda, is a bear species endemic to China.'},\n",
       " {'corpus_id': 1,\n",
       "  'score': 0.16436350345611572,\n",
       "  'text': 'Pandas are mainly found in temperate forests high in the mountains of southwest China.'},\n",
       " {'corpus_id': 2,\n",
       "  'score': 4.5309158736017707e-07,\n",
       "  'text': 'Dogs are domestic animals often kept as pets.'}]"
      ]
     },
     "execution_count": 6,
     "metadata": {},
     "output_type": "execute_result"
    }
   ],
   "source": [
    "documents = [\n",
    "    \"The giant panda, sometimes called a panda bear or simply panda, is a bear species endemic to China.\",\n",
    "    \"Pandas are mainly found in temperate forests high in the mountains of southwest China.\",\n",
    "    \"Dogs are domestic animals often kept as pets.\"\n",
    "]\n",
    "\n",
    "results = model.rank(query, documents, return_documents=True)\n",
    "print(f\"{query=}\")\n",
    "results\n",
    "# for result in results:\n",
    "#     print(f\"Score: {result['score']:.4f}, Document: {result['text'][:50]}...\")"
   ]
  },
  {
   "cell_type": "code",
   "execution_count": null,
   "metadata": {},
   "outputs": [],
   "source": []
  }
 ],
 "metadata": {
  "kernelspec": {
   "display_name": "st",
   "language": "python",
   "name": "python3"
  },
  "language_info": {
   "codemirror_mode": {
    "name": "ipython",
    "version": 3
   },
   "file_extension": ".py",
   "mimetype": "text/x-python",
   "name": "python",
   "nbconvert_exporter": "python",
   "pygments_lexer": "ipython3",
   "version": "3.11.11"
  }
 },
 "nbformat": 4,
 "nbformat_minor": 2
}
