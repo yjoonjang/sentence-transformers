{
 "cells": [
  {
   "cell_type": "code",
   "execution_count": 1,
   "metadata": {},
   "outputs": [
    {
     "name": "stderr",
     "output_type": "stream",
     "text": [
      "/mnt/raid6/yjoonjang/miniconda3/envs/st/lib/python3.11/site-packages/tqdm/auto.py:21: TqdmWarning: IProgress not found. Please update jupyter and ipywidgets. See https://ipywidgets.readthedocs.io/en/stable/user_install.html\n",
      "  from .autonotebook import tqdm as notebook_tqdm\n"
     ]
    }
   ],
   "source": [
    "from CustomCrossEncoder import CustomCrossEncoder"
   ]
  },
  {
   "cell_type": "code",
   "execution_count": 3,
   "metadata": {},
   "outputs": [],
   "source": [
    "model = CustomCrossEncoder(\n",
    "    \"yjoonjang/custom-bge-reranker-v2-m3\", \n",
    "    num_labels=2,\n",
    "    max_length=512\n",
    ")\n",
    "\n",
    "# query = \"what is panda?\"\n",
    "# passage = \"The giant panda, sometimes called a panda bear or simply panda, is a bear species endemic to China.\"\n",
    "\n",
    "# score = model.predict((query, passage))\n",
    "# print(f\"Prediction score: {score}\")\n",
    "\n",
    "# documents = [\n",
    "#     \"The giant panda, sometimes called a panda bear or simply panda, is a bear species endemic to China.\",\n",
    "#     \"Pandas are mainly found in temperate forests high in the mountains of southwest China.\",\n",
    "#     \"Dogs are domestic animals often kept as pets.\"\n",
    "# ]\n",
    "\n",
    "# results = model.rank(query, documents, return_documents=True)\n",
    "# for result in results:\n",
    "#     print(f\"Score: {result['score']:.4f}, Document: {result['text'][:50]}...\")"
   ]
  },
  {
   "cell_type": "code",
   "execution_count": 4,
   "metadata": {},
   "outputs": [
    {
     "name": "stderr",
     "output_type": "stream",
     "text": [
      "Predicting: 100%|██████████| 1/1 [00:00<00:00, 40.37it/s]"
     ]
    },
    {
     "name": "stdout",
     "output_type": "stream",
     "text": [
      "[0.9999547] [1]\n"
     ]
    },
    {
     "name": "stderr",
     "output_type": "stream",
     "text": [
      "\n"
     ]
    }
   ],
   "source": [
    "query = \"what is panda?\"\n",
    "passage = \"The giant panda, sometimes called a panda bear or simply panda, is a bear species endemic to China.\"\n",
    "\n",
    "scores, class_ids = model.predict([(query, passage)])\n",
    "print(scores, class_ids)"
   ]
  },
  {
   "cell_type": "code",
   "execution_count": 5,
   "metadata": {},
   "outputs": [
    {
     "name": "stderr",
     "output_type": "stream",
     "text": [
      "Predicting: 100%|██████████| 1/1 [00:00<00:00, 29.78it/s]"
     ]
    },
    {
     "name": "stdout",
     "output_type": "stream",
     "text": [
      "예측 클래스: 1\n",
      "확신도: 1.0000\n",
      "양성 클래스 확률: 1.0000\n"
     ]
    },
    {
     "name": "stderr",
     "output_type": "stream",
     "text": [
      "\n"
     ]
    }
   ],
   "source": [
    "details = model.predict_with_details((query, passage))\n",
    "print(f\"예측 클래스: {details['prediction_class']}\")\n",
    "print(f\"확신도: {details['confidence']:.4f}\")\n",
    "print(f\"양성 클래스 확률: {details['positive_class_prob']:.4f}\")"
   ]
  },
  {
   "cell_type": "code",
   "execution_count": null,
   "metadata": {},
   "outputs": [],
   "source": []
  }
 ],
 "metadata": {
  "kernelspec": {
   "display_name": "st",
   "language": "python",
   "name": "python3"
  },
  "language_info": {
   "codemirror_mode": {
    "name": "ipython",
    "version": 3
   },
   "file_extension": ".py",
   "mimetype": "text/x-python",
   "name": "python",
   "nbconvert_exporter": "python",
   "pygments_lexer": "ipython3",
   "version": "3.11.11"
  }
 },
 "nbformat": 4,
 "nbformat_minor": 2
}
